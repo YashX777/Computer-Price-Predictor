{
 "cells": [
  {
   "cell_type": "markdown",
   "metadata": {},
   "source": [
    "# Linear Regression"
   ]
  },
  {
   "cell_type": "code",
   "execution_count": 1,
   "metadata": {
    "executionInfo": {
     "elapsed": 6209,
     "status": "ok",
     "timestamp": 1744469033027,
     "user": {
      "displayName": "JAGAN NANDRU",
      "userId": "12383138000007734776"
     },
     "user_tz": -330
    },
    "id": "wccM91NsdDTu"
   },
   "outputs": [],
   "source": [
    "import pandas as pd\n",
    "import numpy as np\n",
    "from sklearn.model_selection import train_test_split, GridSearchCV\n",
    "from sklearn.linear_model import LinearRegression, Ridge\n",
    "from sklearn.preprocessing import StandardScaler\n",
    "from sklearn.impute import SimpleImputer\n",
    "from sklearn.metrics import mean_squared_error, r2_score\n",
    "import matplotlib.pyplot as plt\n",
    "import seaborn as sns"
   ]
  },
  {
   "cell_type": "code",
   "execution_count": 2,
   "metadata": {
    "executionInfo": {
     "elapsed": 55,
     "status": "ok",
     "timestamp": 1744469318194,
     "user": {
      "displayName": "JAGAN NANDRU",
      "userId": "12383138000007734776"
     },
     "user_tz": -330
    },
    "id": "Tj0CLpLWdMPl"
   },
   "outputs": [],
   "source": [
    "# Step 1: Load the data\n",
    "df = pd.read_csv(\"FinalDataset.csv\")"
   ]
  },
  {
   "cell_type": "code",
   "execution_count": 3,
   "metadata": {
    "colab": {
     "base_uri": "https://localhost:8080/"
    },
    "executionInfo": {
     "elapsed": 34,
     "status": "ok",
     "timestamp": 1744469335866,
     "user": {
      "displayName": "JAGAN NANDRU",
      "userId": "12383138000007734776"
     },
     "user_tz": -330
    },
    "id": "HiMxd1b2dV7N",
    "outputId": "9d5bdad1-883a-403e-93b2-f3fabae0f3b3"
   },
   "outputs": [
    {
     "name": "stdout",
     "output_type": "stream",
     "text": [
      "<class 'pandas.core.frame.DataFrame'>\n",
      "RangeIndex: 2466 entries, 0 to 2465\n",
      "Data columns (total 10 columns):\n",
      " #   Column                Non-Null Count  Dtype  \n",
      "---  ------                --------------  -----  \n",
      " 0   Brand                 2466 non-null   int64  \n",
      " 1   SSD_Capacity          2466 non-null   float64\n",
      " 2   RAM                   2466 non-null   float64\n",
      " 3   Graphics_Card         2466 non-null   int64  \n",
      " 4   Operating_System      2466 non-null   int64  \n",
      " 5   Graphics_Memory_Type  2466 non-null   int64  \n",
      " 6   Graphics_Card_Type    2466 non-null   int64  \n",
      " 7   Processor_Core_Count  2466 non-null   float64\n",
      " 8   Graphics_Card_Memory  2466 non-null   float64\n",
      " 9   Price                 2466 non-null   float64\n",
      "dtypes: float64(5), int64(5)\n",
      "memory usage: 192.8 KB\n"
     ]
    }
   ],
   "source": [
    "df.info()"
   ]
  },
  {
   "cell_type": "code",
   "execution_count": 4,
   "metadata": {
    "colab": {
     "base_uri": "https://localhost:8080/"
    },
    "executionInfo": {
     "elapsed": 89,
     "status": "ok",
     "timestamp": 1744469369072,
     "user": {
      "displayName": "JAGAN NANDRU",
      "userId": "12383138000007734776"
     },
     "user_tz": -330
    },
    "id": "Q8hAPPnGeZ3c",
    "outputId": "de76cff6-d2b5-4b14-bf82-009ad21d66e7"
   },
   "outputs": [
    {
     "name": "stdout",
     "output_type": "stream",
     "text": [
      "X_train_scaled shape: (1479, 9)\n",
      "X_val_scaled shape: (493, 9)\n",
      "X_test_scaled shape: (494, 9)\n"
     ]
    }
   ],
   "source": [
    "\n",
    "X = df.drop('Price', axis=1)  # Features (all columns except Price)\n",
    "y = df['Price']               # Target variable\n",
    "\n",
    "# Recreate train/val/test split and standardize only original numerical columns\n",
    "X_train, X_temp, y_train, y_temp = train_test_split(X, y, test_size=0.4, random_state=42)\n",
    "X_val, X_test, y_val, y_test = train_test_split(X_temp, y_temp, test_size=0.5, random_state=42)\n",
    "# Print shapes after splitting.\n",
    "\n",
    "print(f\"X_train_scaled shape: {X_train.shape}\")\n",
    "print(f\"X_val_scaled shape: {X_val.shape}\")\n",
    "print(f\"X_test_scaled shape: {X_test.shape}\")"
   ]
  },
  {
   "cell_type": "code",
   "execution_count": 5,
   "metadata": {
    "colab": {
     "base_uri": "https://localhost:8080/"
    },
    "executionInfo": {
     "elapsed": 62,
     "status": "ok",
     "timestamp": 1744469528462,
     "user": {
      "displayName": "JAGAN NANDRU",
      "userId": "12383138000007734776"
     },
     "user_tz": -330
    },
    "id": "iQMJz4eIerqX",
    "outputId": "a87f96d1-e35b-4f94-b4a4-3ba60fecba29"
   },
   "outputs": [
    {
     "name": "stdout",
     "output_type": "stream",
     "text": [
      "\n",
      "After standardization(with Outliers):\n",
      "X_train_scaled shape: (1479, 9)\n",
      "X_val_scaled shape: (493, 9)\n",
      "X_test_scaled shape: (494, 9)\n"
     ]
    }
   ],
   "source": [
    "# Standardize only the original numerical columns\n",
    "scaler = StandardScaler()\n",
    "X_train_scaled = X_train.copy()\n",
    "X_val_scaled = X_val.copy()\n",
    "X_test_scaled = X_test.copy()\n",
    "\n",
    "X_train_scaled = scaler.fit_transform(X_train)\n",
    "X_val_scaled = scaler.transform(X_val)\n",
    "X_test_scaled = scaler.transform(X_test)\n",
    "\n",
    "# Print shapes after standardization before removing Outliers\n",
    "print(\"\\nAfter standardization(with Outliers):\")\n",
    "print(f\"X_train_scaled shape: {X_train_scaled.shape}\")\n",
    "print(f\"X_val_scaled shape: {X_val_scaled.shape}\")\n",
    "print(f\"X_test_scaled shape: {X_test_scaled.shape}\")"
   ]
  },
  {
   "cell_type": "code",
   "execution_count": 6,
   "metadata": {
    "colab": {
     "base_uri": "https://localhost:8080/"
    },
    "executionInfo": {
     "elapsed": 64,
     "status": "ok",
     "timestamp": 1744469836953,
     "user": {
      "displayName": "JAGAN NANDRU",
      "userId": "12383138000007734776"
     },
     "user_tz": -330
    },
    "id": "NmV6YjdHf8Ln",
    "outputId": "a704ed07-caa8-422a-e6a0-27f68b94f092"
   },
   "outputs": [
    {
     "name": "stdout",
     "output_type": "stream",
     "text": [
      "(1479, 9) (1479,)\n"
     ]
    }
   ],
   "source": [
    "\n",
    "# Filter data using the mask\n",
    "X_train_clean = X_train_scaled\n",
    "y_train_clean = y_train\n",
    "\n",
    "print(X_train_clean.shape, y_train_clean.shape)"
   ]
  },
  {
   "cell_type": "code",
   "execution_count": 7,
   "metadata": {
    "colab": {
     "base_uri": "https://localhost:8080/",
     "height": 80
    },
    "executionInfo": {
     "elapsed": 94,
     "status": "ok",
     "timestamp": 1744470060664,
     "user": {
      "displayName": "JAGAN NANDRU",
      "userId": "12383138000007734776"
     },
     "user_tz": -330
    },
    "id": "OncuxJlthKPt",
    "outputId": "56715b4f-ab84-4f47-a065-48cfa9f95d69"
   },
   "outputs": [
    {
     "name": "stdout",
     "output_type": "stream",
     "text": [
      "R2 Score:0.5107\n",
      "Root Mean Squared Error (RMSE): 14623.3538\n",
      "Adjusted R² Score: 0.5016\n"
     ]
    }
   ],
   "source": [
    "from sklearn.linear_model import LinearRegression\n",
    "\n",
    "model = LinearRegression()\n",
    "model.fit(X_train_clean, y_train_clean)\n",
    "\n",
    "y_pred = model.predict(X_test_scaled)\n",
    "\n",
    "\n",
    "rmse = np.sqrt(mean_squared_error(y_test, y_pred))\n",
    "\n",
    "# Adjusted R^2\n",
    "r2 = r2_score(y_test, y_pred)\n",
    "n = X_test_scaled.shape[0]\n",
    "p = X_test_scaled.shape[1]\n",
    "adjusted_r2 = 1 - (1 - r2) * (n - 1) / (n - p - 1)\n",
    "\n",
    "print(f\"R2 Score:{r2:.4f}\")\n",
    "print(f\"Root Mean Squared Error (RMSE): {rmse:.4f}\")\n",
    "print(f\"Adjusted R² Score: {adjusted_r2:.4f}\")"
   ]
  },
  {
   "cell_type": "markdown",
   "metadata": {},
   "source": [
    "# Using Ridge Regression"
   ]
  },
  {
   "cell_type": "code",
   "execution_count": 8,
   "metadata": {
    "executionInfo": {
     "elapsed": 1450,
     "status": "ok",
     "timestamp": 1744470070806,
     "user": {
      "displayName": "JAGAN NANDRU",
      "userId": "12383138000007734776"
     },
     "user_tz": -330
    },
    "id": "sHAe8KGkhKzm"
   },
   "outputs": [],
   "source": [
    "from sklearn.linear_model import RidgeCV\n",
    "from sklearn.metrics import mean_squared_error, r2_score\n",
    "\n",
    "# Step 4: Train a Linear Regression model with RidgeCV (includes hyperparameter tuning for regularization)\n",
    "alphas = [0.01, 0.1, 1.0, 10.0, 100.0]\n",
    "model = RidgeCV(alphas=alphas, cv=5)\n",
    "model.fit(X_train_clean, y_train_clean)\n",
    "\n",
    "# Predict on test set\n",
    "y_pred = model.predict(X_test_scaled)\n"
   ]
  },
  {
   "cell_type": "code",
   "execution_count": 9,
   "metadata": {
    "colab": {
     "base_uri": "https://localhost:8080/",
     "height": 564
    },
    "executionInfo": {
     "elapsed": 259,
     "status": "ok",
     "timestamp": 1744470080444,
     "user": {
      "displayName": "JAGAN NANDRU",
      "userId": "12383138000007734776"
     },
     "user_tz": -330
    },
    "id": "onESSff0hM8W",
    "outputId": "77efe3c7-2140-4da3-844c-5f8bdfa63a25"
   },
   "outputs": [
    {
     "data": {
      "image/png": "[encoded data removed]",
      "text/plain": [
       "<Figure size 1000x600 with 1 Axes>"
      ]
     },
     "metadata": {},
     "output_type": "display_data"
    }
   ],
   "source": [
    "# Visualization of model performance\n",
    "plt.figure(figsize=(10, 6))\n",
    "plt.scatter(y_test, y_pred, alpha=0.5)\n",
    "plt.plot([y_test.min(), y_test.max()], [y_test.min(), y_test.max()], 'r--')\n",
    "plt.xlabel('Actual Values')\n",
    "plt.ylabel('Predicted Values')\n",
    "plt.title('Ridge Model: Actual vs Predicted')\n",
    "plt.show()"
   ]
  },
  {
   "cell_type": "code",
   "execution_count": 10,
   "metadata": {
    "executionInfo": {
     "elapsed": 5,
     "status": "ok",
     "timestamp": 1744470193169,
     "user": {
      "displayName": "JAGAN NANDRU",
      "userId": "12383138000007734776"
     },
     "user_tz": -330
    },
    "id": "850NEEOohqn-"
   },
   "outputs": [],
   "source": [
    "# Step 5: Evaluation\n",
    "# RMSE\n",
    "rmse = np.sqrt(mean_squared_error(y_test, y_pred))\n",
    "\n",
    "# Adjusted R^2\n",
    "r2 = r2_score(y_test, y_pred)\n",
    "n = X_test_scaled.shape[0]\n",
    "p = X_test_scaled.shape[1]\n",
    "adjusted_r2 = 1 - (1 - r2) * (n - 1) / (n - p - 1)"
   ]
  },
  {
   "cell_type": "code",
   "execution_count": 11,
   "metadata": {
    "colab": {
     "base_uri": "https://localhost:8080/",
     "height": 561
    },
    "executionInfo": {
     "elapsed": 59,
     "status": "ok",
     "timestamp": 1744470202737,
     "user": {
      "displayName": "JAGAN NANDRU",
      "userId": "12383138000007734776"
     },
     "user_tz": -330
    },
    "id": "-3uyaLR7hrLT",
    "outputId": "1b781e50-2379-43e8-929c-c541bc462b97"
   },
   "outputs": [
    {
     "name": "stdout",
     "output_type": "stream",
     "text": [
      "Best alpha (regularization strength): 100.0000\n",
      "R2 Score:0.5168\n",
      "Root Mean Squared Error (RMSE): 14530.8739\n",
      "Adjusted R² Score: 0.5078\n"
     ]
    },
    {
     "data": {
      "text/html": [
       "<div>\n",
       "<style scoped>\n",
       "    .dataframe tbody tr th:only-of-type {\n",
       "        vertical-align: middle;\n",
       "    }\n",
       "\n",
       "    .dataframe tbody tr th {\n",
       "        vertical-align: top;\n",
       "    }\n",
       "\n",
       "    .dataframe thead th {\n",
       "        text-align: right;\n",
       "    }\n",
       "</style>\n",
       "<table border=\"1\" class=\"dataframe\">\n",
       "  <thead>\n",
       "    <tr style=\"text-align: right;\">\n",
       "      <th></th>\n",
       "      <th>Value</th>\n",
       "    </tr>\n",
       "    <tr>\n",
       "      <th>Metric</th>\n",
       "      <th></th>\n",
       "    </tr>\n",
       "  </thead>\n",
       "  <tbody>\n",
       "    <tr>\n",
       "      <th>Best Alpha</th>\n",
       "      <td>100.000000</td>\n",
       "    </tr>\n",
       "    <tr>\n",
       "      <th>RMSE</th>\n",
       "      <td>14530.873856</td>\n",
       "    </tr>\n",
       "    <tr>\n",
       "      <th>Adjusted R²</th>\n",
       "      <td>0.507837</td>\n",
       "    </tr>\n",
       "  </tbody>\n",
       "</table>\n",
       "</div>"
      ],
      "text/plain": [
       "                    Value\n",
       "Metric                   \n",
       "Best Alpha     100.000000\n",
       "RMSE         14530.873856\n",
       "Adjusted R²      0.507837"
      ]
     },
     "execution_count": 11,
     "metadata": {},
     "output_type": "execute_result"
    }
   ],
   "source": [
    "# Display results with clear labels\n",
    "print(f\"Best alpha (regularization strength): {model.alpha_:.4f}\")\n",
    "print(f\"R2 Score:{r2:.4f}\")\n",
    "print(f\"Root Mean Squared Error (RMSE): {rmse:.4f}\")\n",
    "print(f\"Adjusted R² Score: {adjusted_r2:.4f}\")\n",
    "\n",
    "# You can also create a more visually appealing display using a DataFrame\n",
    "import pandas as pd\n",
    "results = pd.DataFrame({\n",
    "    'Metric': ['Best Alpha', 'RMSE', 'Adjusted R²'],\n",
    "    'Value': [model.alpha_, rmse, adjusted_r2]\n",
    "})\n",
    "results.set_index('Metric', inplace=True)\n",
    "results"
   ]
  },
  {
   "cell_type": "code",
   "execution_count": 12,
   "metadata": {
    "colab": {
     "base_uri": "https://localhost:8080/",
     "height": 407
    },
    "executionInfo": {
     "elapsed": 163,
     "status": "ok",
     "timestamp": 1744470232127,
     "user": {
      "displayName": "JAGAN NANDRU",
      "userId": "12383138000007734776"
     },
     "user_tz": -330
    },
    "id": "zLyIgHWjhtf_",
    "outputId": "e9e15248-8c4d-455b-90fe-ed88dac69ba1"
   },
   "outputs": [
    {
     "data": {
      "image/png": "[encoded data removed]",
      "text/plain": [
       "<Figure size 1000x400 with 1 Axes>"
      ]
     },
     "metadata": {},
     "output_type": "display_data"
    }
   ],
   "source": [
    "# Visual display of key metrics\n",
    "fig, ax = plt.subplots(figsize=(10, 4))\n",
    "metrics = ['Best Alpha', 'RMSE', 'Adjusted R²']\n",
    "values = [model.alpha_, rmse, adjusted_r2]\n",
    "colors = ['#3498db', '#e74c3c', '#2ecc71']\n",
    "\n",
    "ax.bar(metrics, values, color=colors)\n",
    "ax.set_title('Model Performance Metrics')\n",
    "for i, v in enumerate(values):\n",
    "    ax.text(i, v/2, f'{v:.4f}', ha='center', fontweight='bold')\n",
    "\n",
    "plt.tight_layout()\n",
    "plt.show()"
   ]
  },
  {
   "cell_type": "code",
   "execution_count": null,
   "metadata": {
    "id": "GsO3ulHoh0o_"
   },
   "outputs": [],
   "source": []
  }
 ],
 "metadata": {
  "colab": {
   "authorship_tag": "ABX9TyNspUj/O0Cgt9YiZhdUpYD+",
   "provenance": []
  },
  "kernelspec": {
   "display_name": "Python 3 (ipykernel)",
   "language": "python",
   "name": "python3"
  },
  "language_info": {
   "codemirror_mode": {
    "name": "ipython",
    "version": 3
   },
   "file_extension": ".py",
   "mimetype": "text/x-python",
   "name": "python",
   "nbconvert_exporter": "python",
   "pygments_lexer": "ipython3",
   "version": "3.12.5"
  }
 },
 "nbformat": 4,
 "nbformat_minor": 4
}
